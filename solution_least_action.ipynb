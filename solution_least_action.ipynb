{
 "cells": [
  {
   "cell_type": "code",
   "execution_count": 15,
   "metadata": {},
   "outputs": [
    {
     "name": "stdout",
     "output_type": "stream",
     "text": [
      "Populating the interactive namespace from numpy and matplotlib\n"
     ]
    }
   ],
   "source": [
    "%pylab inline"
   ]
  },
  {
   "cell_type": "code",
   "execution_count": 17,
   "metadata": {
    "collapsed": true
   },
   "outputs": [],
   "source": [
    "import numpy as np\n",
    "import pandas as pd\n",
    "import matplotlib.pyplot as plt"
   ]
  },
  {
   "cell_type": "markdown",
   "metadata": {},
   "source": [
    "### Solution\n",
    "\\begin{align}\n",
    " x=&-\\frac{1}{2} g t^2+v_0 t \\,, & v=&-g t +v_0\n",
    "\\end{align}\n",
    "At maximum height $t=t_{\\text{end}}/2$ and\n",
    "\\begin{align}\n",
    " x_{\\text{max}}=&-\\frac{1}{2} g (t_{\\text{end}}/2)^2+v_0 \\frac{t_{\\text{end}}}{2} \\,, & 0=&-g \\frac{t_{\\text{end}}}{2} +v_0\n",
    "\\end{align}\n",
    "From the second equation $v_0=g t_{\\text{end}}/2=14.7$ m/s, and\n",
    "\\begin{align}\n",
    " x_{\\text{max}}=&-\\frac{1}{2} g (t_{\\text{end}}/2)^2+ g \\frac{t_{\\text{end}}}{2} \\frac{t_{\\text{end}}}{2} \\nonumber\\\\\n",
    " =&g\\frac{ t_{\\text{end}}^2  }{8}=11.025\\ \\text{m}\\,.\n",
    "\\end{align}"
   ]
  },
  {
   "cell_type": "markdown",
   "metadata": {},
   "source": [
    "__Activity__: Find the same solution by fitting the polynomial of degree 2 that go trough the points: \n",
    "\n",
    "$(t_0, x_0)=(0,0)$,\n",
    "\n",
    "$t_{\\rm end/2},x_{\\rm max}=(1.5,11,025)$,\n",
    "\n",
    "$t_{\\rm end/2},x_{\\rm max} =(0,3)$"
   ]
  },
  {
   "cell_type": "code",
   "execution_count": 18,
   "metadata": {},
   "outputs": [
    {
     "data": {
      "text/html": [
       "<div>\n",
       "<table border=\"1\" class=\"dataframe\">\n",
       "  <thead>\n",
       "    <tr style=\"text-align: right;\">\n",
       "      <th></th>\n",
       "      <th>t</th>\n",
       "      <th>x</th>\n",
       "    </tr>\n",
       "  </thead>\n",
       "  <tbody>\n",
       "    <tr>\n",
       "      <th>0</th>\n",
       "      <td>0.0</td>\n",
       "      <td>0.000</td>\n",
       "    </tr>\n",
       "    <tr>\n",
       "      <th>1</th>\n",
       "      <td>1.5</td>\n",
       "      <td>11.025</td>\n",
       "    </tr>\n",
       "    <tr>\n",
       "      <th>2</th>\n",
       "      <td>3.0</td>\n",
       "      <td>0.000</td>\n",
       "    </tr>\n",
       "  </tbody>\n",
       "</table>\n",
       "</div>"
      ],
      "text/plain": [
       "     t       x\n",
       "0  0.0   0.000\n",
       "1  1.5  11.025\n",
       "2  3.0   0.000"
      ]
     },
     "execution_count": 18,
     "metadata": {},
     "output_type": "execute_result"
    }
   ],
   "source": [
    "df=pd.DataFrame({\n",
    "    \"t\":[0,1.5,3],\n",
    "    \"x\":[0,11.025,0]\n",
    "})\n",
    "df"
   ]
  },
  {
   "cell_type": "code",
   "execution_count": 19,
   "metadata": {},
   "outputs": [
    {
     "name": "stdout",
     "output_type": "stream",
     "text": [
      "      2\n",
      "-4.9 t + 14.7 t + 8.205e-15\n"
     ]
    }
   ],
   "source": [
    "\n",
    "coeff=np.polyfit(df.t,df.x,deg=2)\n",
    "x=np.poly1d(coeff,variable=\"t\")\n",
    "print(x)"
   ]
  },
  {
   "cell_type": "code",
   "execution_count": 25,
   "metadata": {},
   "outputs": [
    {
     "data": {
      "image/png": "[encoded data removed]",
      "text/plain": [
       "<matplotlib.figure.Figure at 0x7fd0544b5ef0>"
      ]
     },
     "metadata": {},
     "output_type": "display_data"
    }
   ],
   "source": [
    "t=np.linspace(df.t.min(),df.t.max())\n",
    "plt.plot(df.t,df.x,\"ro\")\n",
    "plt.plot(t,x(t))\n",
    "plt.grid()\n"
   ]
  },
  {
   "cell_type": "markdown",
   "metadata": {},
   "source": [
    "<div style=\"float: right;\" markdown=\"1\">\n",
    "    <img src=\"figures/leastaction.png\">\n",
    "</div>\n",
    "\n",
    "## Geometry interpretation\n",
    "Following the geometry theory developed [here](http://www.eftaylor.com/software/ActionApplets/LeastAction.html), we will try to define something called the _Action_ for one small segment of the free fall movement in one-dimension. \n",
    "\n",
    "For that we need the experimental data consisting on the height of an object of mass $m$ in free fall, and the height $x_i$, for each time $t_i$. This data would be fitted by a polynomial of degree two, as displayed in the figure for one of the fitted segments of the plot of $x$ as a function of $t$. We take the origin of the coordinates at ground level. For each segment we can calculate an average kinetic energy, $T$, and an averge potential energy, $V$, in the limit of $\\Delta t=t_2-t_1$ small. From the figure\n",
    "\n",
    "\\begin{align}\n",
    "T_{12}=\\frac12 m v^2\\approx &\\frac12 m\\left(\\frac{x_2-x_1}{t_2-t_1}\\right)^2\\,,&\n",
    "V_{12}=mgh\\approx& m g \\frac{x_2+x_1}{2}\\,.\n",
    "\\end{align}\n",
    "\n",
    "We can then reformulate the problem of the free fall in the following terms. From all the possible curves that can interpolate the points $(t_1,x_1)$ and $(t_2,x_2)$, which is the correct one?. \n",
    "\n",
    "The answer obtained by Euler can be obtained from the definition of the function \"Lagrangian\"\n",
    "$$L(t)=T(t)-V(t)$$\n",
    "\n",
    "We define the \"Action\" of one interpolating function between the points $(t_1,x_1)$ and $(t_2,x_2)$ as\n",
    "$$S=\\int_{t_1}^{t_2} L\\, {\\rm d}t $$\n",
    "\n",
    "The result if that correct interpolation is the one that has a minumum value for the Action!\n",
    "\n",
    "For one segment of the action between $(t_1,x_1)$, and $(t_2,x_2)$, with $\\Delta t$ sufficiently small such that $L$ can be considered constant, we have\n",
    "\\begin{eqnarray}\n",
    "S_1&=&\\int_{t_1}^{t_2} L dt \\\\\n",
    "&\\approx& \\left[\\frac12 m v^2-m g h \\right]\\Delta t\\\\\n",
    "&\\approx& \\left[\\frac12 m\\left(\\frac{x_2-x_1}{t_2-t_1}\\right)^2-m g \\frac{x_2+x_1}{2} \\right](t_2-t_1)\n",
    "\\end{eqnarray}\n",
    "that corresponds to Eq. (11) of Am. J. Phys, Vol. 72(2004)478: http://www.eftaylor.com/pub/Symmetries&ConsLaws.pdf"
   ]
  },
  {
   "cell_type": "markdown",
   "metadata": {},
   "source": [
    "__Activiy__: Calculate the action for the physical trajectory, with $m=0.2$ kg, where \n",
    "$$ L(t)=\\frac{1}{2}mv^2(t) - mgx(t) $$\n",
    "$$ F(t)=\\int L $$\n",
    "$$S=\\int_{\\rm tmin}^{\\rm tmax} L\\, {\\rm d}t = F(t_ {\\rm max})-F(t_ {\\rm min})$$"
   ]
  },
  {
   "cell_type": "code",
   "execution_count": 60,
   "metadata": {},
   "outputs": [
    {
     "name": "stdout",
     "output_type": "stream",
     "text": [
      "x(t) [m]: \n",
      "       2\n",
      "-4.9 t + 14.7 t + 8.205e-15\n",
      "--------------------------------------------------\n",
      "For xmax=11.025 m: S=-21.6 J.s min: -21.6 J.s\n",
      "--------------------------------------------------\n"
     ]
    },
    {
     "data": {
      "text/plain": [
       "array([ 21.609,  21.609,  21.609,  21.609,  21.609,  21.609,  21.609,\n",
       "        21.609,  21.609,  21.609])"
      ]
     },
     "execution_count": 60,
     "metadata": {},
     "output_type": "execute_result"
    }
   ],
   "source": [
    "xmax=11.025\n",
    "df.loc[1,\"x\"]=xmax\n",
    "coeff=np.polyfit(df.t,df.x,deg=2)\n",
    "x=np.poly1d(coeff,variable=\"t\")\n",
    "print(\"x(t) [m]: \\n\",x)\n",
    "print(\"-\"*50)\n",
    "m=0.2\n",
    "g=9.8\n",
    "\n",
    "\n",
    "v=x.deriv()\n",
    "L=0.5*m*v**2-m*g*x\n",
    "F=L.integ()\n",
    "E=0.5*m*v**2+m*g*x\n",
    "S=F(dt.t.max())- F(dt.t.min())\n",
    "print(\"For xmax={} m: S={:.1f} J.s min: -21.6 J.s\".format(xmax,S))\n",
    "\n",
    "print(\"-\"*50)\n",
    "\n",
    "t=np.linspace(dt.t.min(), dt.t.max(),10)\n",
    "E(t) #Para la trayectoria fisica la energia se conserva"
   ]
  },
  {
   "cell_type": "raw",
   "metadata": {},
   "source": [
    "Ss=[]\n",
    "Es=[]\n",
    "m=0.2\n",
    "g=9.8\n",
    "t=np.linspace(0,3,10)\n",
    "xmax=[6,11.025,15]; x0=0;xend=0\n",
    "ls=['r--','k-','b-.']\n",
    "for i in range(len(xmax) ):\n",
    "    VERBOSE=True\n",
    "    df=pd.DataFrame({'t':[t.min(),t.mean(),t.max()],'x':[x0,xmax[i],xend]})\n",
    "    coeffs=np.polyfit(df.t,df.x,2)\n",
    "    x=np.poly1d(coeffs,variable='t')\n",
    "    if VERBOSE:\n",
    "        print(\"==================\")\n",
    "        print('x(t)= in [m]:\\n',x)\n",
    "        print(\"==================\")\n",
    "    v=x.deriv()\n",
    "    L=0.5*m*v**2-m*g*x\n",
    "    S=L.integ() \n",
    "    E=0.5*m*v**2+m*g*x\n",
    "    print('S={:.1f}  J.s'.format( S(t).sum() ) )\n",
    "    Ss.append( S(t)  )\n",
    "    Es.append( E(t) )\n",
    "    #Plot\n",
    "    if ls:\n",
    "        plt.plot(t,x(t),ls[i],label='S={:.1f} J$\\cdot$s'.format( S(t).sum() )   )\n",
    "\n",
    "if ls:\n",
    "    plt.legend(loc='best',fontsize=12)    \n",
    "    plt.xlabel('$t$ [s]',size=20)\n",
    "    plt.ylabel('$x$ [m]',size=20)"
   ]
  },
  {
   "cell_type": "markdown",
   "metadata": {},
   "source": [
    "Each interval is minumum:"
   ]
  },
  {
   "cell_type": "code",
   "execution_count": 103,
   "metadata": {},
   "outputs": [
    {
     "data": {
      "text/plain": [
       "[array([ 6.4       ,  8.51753086, 10.10567901, 11.16444444, 11.69382716,\n",
       "        11.69382716, 11.16444444, 10.10567901,  8.51753086,  6.4       ]),\n",
       " array([21.609, 21.609, 21.609, 21.609, 21.609, 21.609, 21.609, 21.609,\n",
       "        21.609, 21.609]),\n",
       " array([40.        , 35.81234568, 32.67160494, 30.57777778, 29.5308642 ,\n",
       "        29.5308642 , 30.57777778, 32.67160494, 35.81234568, 40.        ])]"
      ]
     },
     "execution_count": 103,
     "metadata": {},
     "output_type": "execute_result"
    }
   ],
   "source": [
    "Es"
   ]
  },
  {
   "cell_type": "code",
   "execution_count": 63,
   "metadata": {
    "collapsed": true
   },
   "outputs": [],
   "source": [
    "z=np.array([])"
   ]
  },
  {
   "cell_type": "code",
   "execution_count": 64,
   "metadata": {},
   "outputs": [
    {
     "data": {
      "text/plain": [
       "array([1.])"
      ]
     },
     "execution_count": 64,
     "metadata": {},
     "output_type": "execute_result"
    }
   ],
   "source": [
    "np.append(z,[1])"
   ]
  },
  {
   "cell_type": "code",
   "execution_count": null,
   "metadata": {
    "collapsed": true
   },
   "outputs": [],
   "source": []
  }
 ],
 "metadata": {
  "kernelspec": {
   "display_name": "Python 3",
   "language": "python",
   "name": "python3"
  },
  "language_info": {
   "codemirror_mode": {
    "name": "ipython",
    "version": 3
   },
   "file_extension": ".py",
   "mimetype": "text/x-python",
   "name": "python",
   "nbconvert_exporter": "python",
   "pygments_lexer": "ipython3",
   "version": "3.4.2"
  },
  "toc": {
   "colors": {
    "hover_highlight": "#DAA520",
    "running_highlight": "#FF0000",
    "selected_highlight": "#FFD700"
   },
   "moveMenuLeft": true,
   "nav_menu": {
    "height": "31px",
    "width": "252px"
   },
   "navigate_menu": true,
   "number_sections": true,
   "sideBar": true,
   "threshold": 4,
   "toc_cell": false,
   "toc_section_display": "block",
   "toc_window_display": false
  }
 },
 "nbformat": 4,
 "nbformat_minor": 2
}
